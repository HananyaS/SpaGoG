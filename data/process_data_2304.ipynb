{
 "cells": [
  {
   "cell_type": "code",
   "execution_count": 2,
   "metadata": {
    "collapsed": true,
    "ExecuteTime": {
     "start_time": "2023-04-24T02:49:39.001070Z",
     "end_time": "2023-04-24T02:49:39.365417Z"
    }
   },
   "outputs": [],
   "source": [
    "import numpy as np\n",
    "import pandas as pd\n",
    "import random"
   ]
  },
  {
   "cell_type": "markdown",
   "source": [
    "# Accent"
   ],
   "metadata": {
    "collapsed": false
   }
  },
  {
   "cell_type": "code",
   "execution_count": 70,
   "outputs": [
    {
     "data": {
      "text/plain": "          X1        X2        X3         X4        X5         X6         X7  \\\n0   7.071476 -6.512900  7.650800  11.150783 -7.657312  12.484021 -11.709772   \n1  10.982967 -5.157445  3.952060  11.529381 -7.638047  12.136098 -12.036247   \n2   7.827108 -5.477472  7.816257   9.187592 -7.172511  11.715299 -13.847214   \n3   6.744083 -5.688920  6.546789   9.000183 -6.924963  11.710766 -12.374388   \n4   5.836843 -5.326557  7.472265   8.847440 -6.773244  12.677218 -12.315061   \n\n         X8        X9       X10       X11       X12 class  \n0  3.426596  1.462715 -2.812753  0.866538 -5.244274    ES  \n1  3.491943  0.595441 -4.508811  2.332147 -6.221857    ES  \n2  4.574075 -1.687559 -7.204041 -0.011847 -6.463144    ES  \n3  6.169879 -0.544747 -6.019237  1.358559 -6.356441    ES  \n4  4.416344  0.193500 -3.644812  2.151239 -6.816310    ES  ",
      "text/html": "<div>\n<style scoped>\n    .dataframe tbody tr th:only-of-type {\n        vertical-align: middle;\n    }\n\n    .dataframe tbody tr th {\n        vertical-align: top;\n    }\n\n    .dataframe thead th {\n        text-align: right;\n    }\n</style>\n<table border=\"1\" class=\"dataframe\">\n  <thead>\n    <tr style=\"text-align: right;\">\n      <th></th>\n      <th>X1</th>\n      <th>X2</th>\n      <th>X3</th>\n      <th>X4</th>\n      <th>X5</th>\n      <th>X6</th>\n      <th>X7</th>\n      <th>X8</th>\n      <th>X9</th>\n      <th>X10</th>\n      <th>X11</th>\n      <th>X12</th>\n      <th>class</th>\n    </tr>\n  </thead>\n  <tbody>\n    <tr>\n      <th>0</th>\n      <td>7.071476</td>\n      <td>-6.512900</td>\n      <td>7.650800</td>\n      <td>11.150783</td>\n      <td>-7.657312</td>\n      <td>12.484021</td>\n      <td>-11.709772</td>\n      <td>3.426596</td>\n      <td>1.462715</td>\n      <td>-2.812753</td>\n      <td>0.866538</td>\n      <td>-5.244274</td>\n      <td>ES</td>\n    </tr>\n    <tr>\n      <th>1</th>\n      <td>10.982967</td>\n      <td>-5.157445</td>\n      <td>3.952060</td>\n      <td>11.529381</td>\n      <td>-7.638047</td>\n      <td>12.136098</td>\n      <td>-12.036247</td>\n      <td>3.491943</td>\n      <td>0.595441</td>\n      <td>-4.508811</td>\n      <td>2.332147</td>\n      <td>-6.221857</td>\n      <td>ES</td>\n    </tr>\n    <tr>\n      <th>2</th>\n      <td>7.827108</td>\n      <td>-5.477472</td>\n      <td>7.816257</td>\n      <td>9.187592</td>\n      <td>-7.172511</td>\n      <td>11.715299</td>\n      <td>-13.847214</td>\n      <td>4.574075</td>\n      <td>-1.687559</td>\n      <td>-7.204041</td>\n      <td>-0.011847</td>\n      <td>-6.463144</td>\n      <td>ES</td>\n    </tr>\n    <tr>\n      <th>3</th>\n      <td>6.744083</td>\n      <td>-5.688920</td>\n      <td>6.546789</td>\n      <td>9.000183</td>\n      <td>-6.924963</td>\n      <td>11.710766</td>\n      <td>-12.374388</td>\n      <td>6.169879</td>\n      <td>-0.544747</td>\n      <td>-6.019237</td>\n      <td>1.358559</td>\n      <td>-6.356441</td>\n      <td>ES</td>\n    </tr>\n    <tr>\n      <th>4</th>\n      <td>5.836843</td>\n      <td>-5.326557</td>\n      <td>7.472265</td>\n      <td>8.847440</td>\n      <td>-6.773244</td>\n      <td>12.677218</td>\n      <td>-12.315061</td>\n      <td>4.416344</td>\n      <td>0.193500</td>\n      <td>-3.644812</td>\n      <td>2.151239</td>\n      <td>-6.816310</td>\n      <td>ES</td>\n    </tr>\n  </tbody>\n</table>\n</div>"
     },
     "execution_count": 70,
     "metadata": {},
     "output_type": "execute_result"
    }
   ],
   "source": [
    "df = pd.read_csv(\"PAPERS/ForPaper/Tabular/Accent/raw/accent-mfcc-data-1.csv\")\n",
    "df.head()"
   ],
   "metadata": {
    "collapsed": false,
    "ExecuteTime": {
     "start_time": "2023-04-24T00:32:07.275862Z",
     "end_time": "2023-04-24T00:32:07.279800Z"
    }
   }
  },
  {
   "cell_type": "code",
   "execution_count": 71,
   "outputs": [
    {
     "data": {
      "text/plain": "          X1         X2        X3        X4         X5         X6         X7  \\\n0   7.431262  -3.711100 -0.360168  3.869134  -8.228539  10.636192 -13.482686   \n1   5.818891  -2.479246  2.087605  3.911587  -6.988192  10.437128 -13.755028   \n2   8.362028 -11.638568  8.298674  3.069836 -10.653493  11.538437 -12.212941   \n3  13.161715  -4.130187  4.854014  9.063330 -15.148877   8.619403  -7.817271   \n4   8.689475  -6.863668 -0.783396  8.685747  -8.130607   8.851329  -9.931361   \n\n         X8        X9       X10       X11       X12  class  \n0  4.417115  0.622808 -1.434304  5.317209 -8.697709      2  \n1  5.922611  0.714205 -1.518099  4.627938 -8.775748      2  \n2  4.057472  2.967134 -4.070457 -0.382389 -4.890732      5  \n3  3.143747  3.526086 -5.321992 -0.702299 -6.010889      5  \n4  3.009161  0.306991 -4.795814  5.040170 -1.852318      5  ",
      "text/html": "<div>\n<style scoped>\n    .dataframe tbody tr th:only-of-type {\n        vertical-align: middle;\n    }\n\n    .dataframe tbody tr th {\n        vertical-align: top;\n    }\n\n    .dataframe thead th {\n        text-align: right;\n    }\n</style>\n<table border=\"1\" class=\"dataframe\">\n  <thead>\n    <tr style=\"text-align: right;\">\n      <th></th>\n      <th>X1</th>\n      <th>X2</th>\n      <th>X3</th>\n      <th>X4</th>\n      <th>X5</th>\n      <th>X6</th>\n      <th>X7</th>\n      <th>X8</th>\n      <th>X9</th>\n      <th>X10</th>\n      <th>X11</th>\n      <th>X12</th>\n      <th>class</th>\n    </tr>\n  </thead>\n  <tbody>\n    <tr>\n      <th>0</th>\n      <td>7.431262</td>\n      <td>-3.711100</td>\n      <td>-0.360168</td>\n      <td>3.869134</td>\n      <td>-8.228539</td>\n      <td>10.636192</td>\n      <td>-13.482686</td>\n      <td>4.417115</td>\n      <td>0.622808</td>\n      <td>-1.434304</td>\n      <td>5.317209</td>\n      <td>-8.697709</td>\n      <td>2</td>\n    </tr>\n    <tr>\n      <th>1</th>\n      <td>5.818891</td>\n      <td>-2.479246</td>\n      <td>2.087605</td>\n      <td>3.911587</td>\n      <td>-6.988192</td>\n      <td>10.437128</td>\n      <td>-13.755028</td>\n      <td>5.922611</td>\n      <td>0.714205</td>\n      <td>-1.518099</td>\n      <td>4.627938</td>\n      <td>-8.775748</td>\n      <td>2</td>\n    </tr>\n    <tr>\n      <th>2</th>\n      <td>8.362028</td>\n      <td>-11.638568</td>\n      <td>8.298674</td>\n      <td>3.069836</td>\n      <td>-10.653493</td>\n      <td>11.538437</td>\n      <td>-12.212941</td>\n      <td>4.057472</td>\n      <td>2.967134</td>\n      <td>-4.070457</td>\n      <td>-0.382389</td>\n      <td>-4.890732</td>\n      <td>5</td>\n    </tr>\n    <tr>\n      <th>3</th>\n      <td>13.161715</td>\n      <td>-4.130187</td>\n      <td>4.854014</td>\n      <td>9.063330</td>\n      <td>-15.148877</td>\n      <td>8.619403</td>\n      <td>-7.817271</td>\n      <td>3.143747</td>\n      <td>3.526086</td>\n      <td>-5.321992</td>\n      <td>-0.702299</td>\n      <td>-6.010889</td>\n      <td>5</td>\n    </tr>\n    <tr>\n      <th>4</th>\n      <td>8.689475</td>\n      <td>-6.863668</td>\n      <td>-0.783396</td>\n      <td>8.685747</td>\n      <td>-8.130607</td>\n      <td>8.851329</td>\n      <td>-9.931361</td>\n      <td>3.009161</td>\n      <td>0.306991</td>\n      <td>-4.795814</td>\n      <td>5.040170</td>\n      <td>-1.852318</td>\n      <td>5</td>\n    </tr>\n  </tbody>\n</table>\n</div>"
     },
     "execution_count": 71,
     "metadata": {},
     "output_type": "execute_result"
    }
   ],
   "source": [
    "df['class'] = df['class'].map({k: i for i, k in enumerate(df['class'].unique())})\n",
    "df = df.sample(frac=1).reset_index(drop=True)\n",
    "df.head()"
   ],
   "metadata": {
    "collapsed": false,
    "ExecuteTime": {
     "start_time": "2023-04-24T00:32:07.297889Z",
     "end_time": "2023-04-24T00:32:07.393435Z"
    }
   }
  },
  {
   "cell_type": "code",
   "execution_count": 72,
   "outputs": [],
   "source": [
    "train_df = df.iloc[:int(len(df)*0.64)]\n",
    "val_df = df.iloc[int(len(df)*0.64):int(len(df)*0.8)]\n",
    "test_df = df.iloc[int(len(df)*0.8):]\n",
    "\n",
    "train_df.to_csv(\"PAPERS/ForPaper/Tabular/Accent/processed/full/train.csv\", index=True)\n",
    "val_df.to_csv(\"PAPERS/ForPaper/Tabular/Accent/processed/full/val.csv\", index=True)\n",
    "test_df.to_csv(\"PAPERS/ForPaper/Tabular/Accent/processed/full/test.csv\", index=True)"
   ],
   "metadata": {
    "collapsed": false,
    "ExecuteTime": {
     "start_time": "2023-04-24T00:32:07.486614Z",
     "end_time": "2023-04-24T00:32:07.529517Z"
    }
   }
  },
  {
   "cell_type": "code",
   "execution_count": 73,
   "outputs": [],
   "source": [
    "for i in range(df.shape[0]):\n",
    "    for j in range(df.shape[1] - 1):\n",
    "        if random.random() < 0.5:\n",
    "            df.iloc[i, j] = np.nan"
   ],
   "metadata": {
    "collapsed": false,
    "ExecuteTime": {
     "start_time": "2023-04-24T00:32:07.687145Z",
     "end_time": "2023-04-24T00:32:08.294846Z"
    }
   }
  },
  {
   "cell_type": "code",
   "execution_count": 74,
   "outputs": [],
   "source": [
    "train_df = df.iloc[:int(len(df)*0.64)]\n",
    "val_df = df.iloc[int(len(df)*0.64):int(len(df)*0.8)]\n",
    "test_df = df.iloc[int(len(df)*0.8):]\n",
    "\n",
    "train_df.to_csv(\"PAPERS/ForPaper/Tabular/Accent/processed/train.csv\", index=True)\n",
    "val_df.to_csv(\"PAPERS/ForPaper/Tabular/Accent/processed/val.csv\", index=True)\n",
    "test_df.to_csv(\"PAPERS/ForPaper/Tabular/Accent/processed/test.csv\", index=True)"
   ],
   "metadata": {
    "collapsed": false,
    "ExecuteTime": {
     "start_time": "2023-04-24T00:32:08.339712Z",
     "end_time": "2023-04-24T00:32:08.351862Z"
    }
   }
  },
  {
   "cell_type": "markdown",
   "source": [
    "# Ecoli"
   ],
   "metadata": {
    "collapsed": false
   }
  },
  {
   "cell_type": "code",
   "execution_count": 75,
   "outputs": [
    {
     "data": {
      "text/plain": "      1     2     3     4     5     6     7  class\n0  0.63  1.00  0.48  0.50  0.35  0.51  0.49      7\n1  0.25  0.26  0.48  0.50  0.39  0.32  0.42      0\n2  0.36  0.42  0.48  0.50  0.53  0.32  0.41      0\n3  0.29  0.28  0.48  0.50  0.50  0.42  0.50      0\n4  0.47  0.47  0.48  0.50  0.22  0.16  0.26      0",
      "text/html": "<div>\n<style scoped>\n    .dataframe tbody tr th:only-of-type {\n        vertical-align: middle;\n    }\n\n    .dataframe tbody tr th {\n        vertical-align: top;\n    }\n\n    .dataframe thead th {\n        text-align: right;\n    }\n</style>\n<table border=\"1\" class=\"dataframe\">\n  <thead>\n    <tr style=\"text-align: right;\">\n      <th></th>\n      <th>1</th>\n      <th>2</th>\n      <th>3</th>\n      <th>4</th>\n      <th>5</th>\n      <th>6</th>\n      <th>7</th>\n      <th>class</th>\n    </tr>\n  </thead>\n  <tbody>\n    <tr>\n      <th>0</th>\n      <td>0.63</td>\n      <td>1.00</td>\n      <td>0.48</td>\n      <td>0.50</td>\n      <td>0.35</td>\n      <td>0.51</td>\n      <td>0.49</td>\n      <td>7</td>\n    </tr>\n    <tr>\n      <th>1</th>\n      <td>0.25</td>\n      <td>0.26</td>\n      <td>0.48</td>\n      <td>0.50</td>\n      <td>0.39</td>\n      <td>0.32</td>\n      <td>0.42</td>\n      <td>0</td>\n    </tr>\n    <tr>\n      <th>2</th>\n      <td>0.36</td>\n      <td>0.42</td>\n      <td>0.48</td>\n      <td>0.50</td>\n      <td>0.53</td>\n      <td>0.32</td>\n      <td>0.41</td>\n      <td>0</td>\n    </tr>\n    <tr>\n      <th>3</th>\n      <td>0.29</td>\n      <td>0.28</td>\n      <td>0.48</td>\n      <td>0.50</td>\n      <td>0.50</td>\n      <td>0.42</td>\n      <td>0.50</td>\n      <td>0</td>\n    </tr>\n    <tr>\n      <th>4</th>\n      <td>0.47</td>\n      <td>0.47</td>\n      <td>0.48</td>\n      <td>0.50</td>\n      <td>0.22</td>\n      <td>0.16</td>\n      <td>0.26</td>\n      <td>0</td>\n    </tr>\n  </tbody>\n</table>\n</div>"
     },
     "execution_count": 75,
     "metadata": {},
     "output_type": "execute_result"
    }
   ],
   "source": [
    "df = np.loadtxt(\"PAPERS/ForPaper/Tabular/Ecoli/raw/ecoli.data\", dtype=str)\n",
    "df = pd.DataFrame(df)\n",
    "df.drop(columns=[0], inplace=True)\n",
    "df = df.rename(columns={df.shape[1]: \"class\"})\n",
    "\n",
    "df['class'] = df['class'].map({k: i for i, k in enumerate(df['class'].unique())})\n",
    "df = df.sample(frac=1).reset_index(drop=True)\n",
    "\n",
    "df.head()"
   ],
   "metadata": {
    "collapsed": false,
    "ExecuteTime": {
     "start_time": "2023-04-24T00:32:08.339853Z",
     "end_time": "2023-04-24T00:32:08.352421Z"
    }
   }
  },
  {
   "cell_type": "code",
   "execution_count": 76,
   "outputs": [],
   "source": [
    "train_df = df.iloc[:int(len(df)*0.64)]\n",
    "val_df = df.iloc[int(len(df)*0.64):int(len(df)*0.8)]\n",
    "test_df = df.iloc[int(len(df)*0.8):]\n",
    "\n",
    "train_df.to_csv(\"PAPERS/ForPaper/Tabular/Ecoli/processed/full/train.csv\", index=True)\n",
    "val_df.to_csv(\"PAPERS/ForPaper/Tabular/Ecoli/processed/full/val.csv\", index=True)\n",
    "test_df.to_csv(\"PAPERS/ForPaper/Tabular/Ecoli/processed/full/test.csv\", index=True)"
   ],
   "metadata": {
    "collapsed": false,
    "ExecuteTime": {
     "start_time": "2023-04-24T00:32:08.385106Z",
     "end_time": "2023-04-24T00:32:08.435515Z"
    }
   }
  },
  {
   "cell_type": "code",
   "execution_count": 77,
   "outputs": [],
   "source": [
    "for i in range(df.shape[0]):\n",
    "    for j in range(df.shape[1] - 1):\n",
    "        if random.random() < 0.5:\n",
    "            df.iloc[i, j] = np.nan"
   ],
   "metadata": {
    "collapsed": false,
    "ExecuteTime": {
     "start_time": "2023-04-24T00:32:08.624194Z",
     "end_time": "2023-04-24T00:32:09.028542Z"
    }
   }
  },
  {
   "cell_type": "code",
   "execution_count": 78,
   "outputs": [],
   "source": [
    "train_df = df.iloc[:int(len(df)*0.64)]\n",
    "val_df = df.iloc[int(len(df)*0.64):int(len(df)*0.8)]\n",
    "test_df = df.iloc[int(len(df)*0.8):]\n",
    "\n",
    "train_df.to_csv(\"PAPERS/ForPaper/Tabular/Ecoli/processed/train.csv\", index=True)\n",
    "val_df.to_csv(\"PAPERS/ForPaper/Tabular/Ecoli/processed/val.csv\", index=True)\n",
    "test_df.to_csv(\"PAPERS/ForPaper/Tabular/Ecoli/processed/test.csv\", index=True)"
   ],
   "metadata": {
    "collapsed": false,
    "ExecuteTime": {
     "start_time": "2023-04-24T00:32:09.116288Z",
     "end_time": "2023-04-24T00:32:09.156678Z"
    }
   }
  },
  {
   "cell_type": "code",
   "execution_count": 79,
   "outputs": [
    {
     "data": {
      "text/plain": "      1     2     3     4     5     6     7  class\n0  0.63   NaN   NaN  0.50  0.35   NaN  0.49      7\n1   NaN   NaN   NaN   NaN  0.39   NaN  0.42      0\n2  0.36   NaN  0.48   NaN  0.53   NaN  0.41      0\n3   NaN  0.28   NaN   NaN   NaN  0.42   NaN      0\n4   NaN   NaN  0.48  0.50  0.22  0.16   NaN      0",
      "text/html": "<div>\n<style scoped>\n    .dataframe tbody tr th:only-of-type {\n        vertical-align: middle;\n    }\n\n    .dataframe tbody tr th {\n        vertical-align: top;\n    }\n\n    .dataframe thead th {\n        text-align: right;\n    }\n</style>\n<table border=\"1\" class=\"dataframe\">\n  <thead>\n    <tr style=\"text-align: right;\">\n      <th></th>\n      <th>1</th>\n      <th>2</th>\n      <th>3</th>\n      <th>4</th>\n      <th>5</th>\n      <th>6</th>\n      <th>7</th>\n      <th>class</th>\n    </tr>\n  </thead>\n  <tbody>\n    <tr>\n      <th>0</th>\n      <td>0.63</td>\n      <td>NaN</td>\n      <td>NaN</td>\n      <td>0.50</td>\n      <td>0.35</td>\n      <td>NaN</td>\n      <td>0.49</td>\n      <td>7</td>\n    </tr>\n    <tr>\n      <th>1</th>\n      <td>NaN</td>\n      <td>NaN</td>\n      <td>NaN</td>\n      <td>NaN</td>\n      <td>0.39</td>\n      <td>NaN</td>\n      <td>0.42</td>\n      <td>0</td>\n    </tr>\n    <tr>\n      <th>2</th>\n      <td>0.36</td>\n      <td>NaN</td>\n      <td>0.48</td>\n      <td>NaN</td>\n      <td>0.53</td>\n      <td>NaN</td>\n      <td>0.41</td>\n      <td>0</td>\n    </tr>\n    <tr>\n      <th>3</th>\n      <td>NaN</td>\n      <td>0.28</td>\n      <td>NaN</td>\n      <td>NaN</td>\n      <td>NaN</td>\n      <td>0.42</td>\n      <td>NaN</td>\n      <td>0</td>\n    </tr>\n    <tr>\n      <th>4</th>\n      <td>NaN</td>\n      <td>NaN</td>\n      <td>0.48</td>\n      <td>0.50</td>\n      <td>0.22</td>\n      <td>0.16</td>\n      <td>NaN</td>\n      <td>0</td>\n    </tr>\n  </tbody>\n</table>\n</div>"
     },
     "execution_count": 79,
     "metadata": {},
     "output_type": "execute_result"
    }
   ],
   "source": [
    "df.head()\n"
   ],
   "metadata": {
    "collapsed": false,
    "ExecuteTime": {
     "start_time": "2023-04-24T00:32:09.116433Z",
     "end_time": "2023-04-24T00:32:09.157331Z"
    }
   }
  },
  {
   "cell_type": "code",
   "execution_count": 80,
   "outputs": [
    {
     "data": {
      "text/plain": "0    143\n1     77\n7     52\n4     35\n5     20\n6      5\n3      2\n2      2\nName: class, dtype: int64"
     },
     "execution_count": 80,
     "metadata": {},
     "output_type": "execute_result"
    }
   ],
   "source": [
    "df[\"class\"].value_counts()"
   ],
   "metadata": {
    "collapsed": false,
    "ExecuteTime": {
     "start_time": "2023-04-24T00:52:22.853173Z",
     "end_time": "2023-04-24T00:52:22.858079Z"
    }
   }
  },
  {
   "cell_type": "markdown",
   "source": [
    "# Credit"
   ],
   "metadata": {
    "collapsed": false
   }
  },
  {
   "cell_type": "code",
   "execution_count": 88,
   "outputs": [
    {
     "data": {
      "text/plain": "   LIMIT_BAL  AGE  PAY_0  PAY_2  PAY_3  PAY_4  PAY_5  PAY_6  BILL_AMT1  \\\n0      80000   27      1      4      3      2      0      0      84718   \n1     250000   27      0      0      0      0      0      0     144525   \n2      40000   42     -1      2     -1      0      0     -1       1978   \n3     220000   28     -1     -1     -2     -2     -2     -2       3700   \n4     460000   34     -1      0      0      0      0      0      11689   \n\n   BILL_AMT2  ...  EDUCATION_0  EDUCATION_1  EDUCATION_2  EDUCATION_3  \\\n0      82861  ...            0            0            0            1   \n1     183569  ...            0            1            0            0   \n2       1415  ...            0            0            0            1   \n3          0  ...            0            0            1            0   \n4      12911  ...            0            1            0            0   \n\n   EDUCATION_4  EDUCATION_5  EDUCATION_6  SEX_1  SEX_2  class  \n0            0            0            0      0      1      1  \n1            0            0            0      1      0      0  \n2            0            0            0      1      0      0  \n3            0            0            0      0      1      1  \n4            0            0            0      0      1      0  \n\n[5 rows x 34 columns]",
      "text/html": "<div>\n<style scoped>\n    .dataframe tbody tr th:only-of-type {\n        vertical-align: middle;\n    }\n\n    .dataframe tbody tr th {\n        vertical-align: top;\n    }\n\n    .dataframe thead th {\n        text-align: right;\n    }\n</style>\n<table border=\"1\" class=\"dataframe\">\n  <thead>\n    <tr style=\"text-align: right;\">\n      <th></th>\n      <th>LIMIT_BAL</th>\n      <th>AGE</th>\n      <th>PAY_0</th>\n      <th>PAY_2</th>\n      <th>PAY_3</th>\n      <th>PAY_4</th>\n      <th>PAY_5</th>\n      <th>PAY_6</th>\n      <th>BILL_AMT1</th>\n      <th>BILL_AMT2</th>\n      <th>...</th>\n      <th>EDUCATION_0</th>\n      <th>EDUCATION_1</th>\n      <th>EDUCATION_2</th>\n      <th>EDUCATION_3</th>\n      <th>EDUCATION_4</th>\n      <th>EDUCATION_5</th>\n      <th>EDUCATION_6</th>\n      <th>SEX_1</th>\n      <th>SEX_2</th>\n      <th>class</th>\n    </tr>\n  </thead>\n  <tbody>\n    <tr>\n      <th>0</th>\n      <td>80000</td>\n      <td>27</td>\n      <td>1</td>\n      <td>4</td>\n      <td>3</td>\n      <td>2</td>\n      <td>0</td>\n      <td>0</td>\n      <td>84718</td>\n      <td>82861</td>\n      <td>...</td>\n      <td>0</td>\n      <td>0</td>\n      <td>0</td>\n      <td>1</td>\n      <td>0</td>\n      <td>0</td>\n      <td>0</td>\n      <td>0</td>\n      <td>1</td>\n      <td>1</td>\n    </tr>\n    <tr>\n      <th>1</th>\n      <td>250000</td>\n      <td>27</td>\n      <td>0</td>\n      <td>0</td>\n      <td>0</td>\n      <td>0</td>\n      <td>0</td>\n      <td>0</td>\n      <td>144525</td>\n      <td>183569</td>\n      <td>...</td>\n      <td>0</td>\n      <td>1</td>\n      <td>0</td>\n      <td>0</td>\n      <td>0</td>\n      <td>0</td>\n      <td>0</td>\n      <td>1</td>\n      <td>0</td>\n      <td>0</td>\n    </tr>\n    <tr>\n      <th>2</th>\n      <td>40000</td>\n      <td>42</td>\n      <td>-1</td>\n      <td>2</td>\n      <td>-1</td>\n      <td>0</td>\n      <td>0</td>\n      <td>-1</td>\n      <td>1978</td>\n      <td>1415</td>\n      <td>...</td>\n      <td>0</td>\n      <td>0</td>\n      <td>0</td>\n      <td>1</td>\n      <td>0</td>\n      <td>0</td>\n      <td>0</td>\n      <td>1</td>\n      <td>0</td>\n      <td>0</td>\n    </tr>\n    <tr>\n      <th>3</th>\n      <td>220000</td>\n      <td>28</td>\n      <td>-1</td>\n      <td>-1</td>\n      <td>-2</td>\n      <td>-2</td>\n      <td>-2</td>\n      <td>-2</td>\n      <td>3700</td>\n      <td>0</td>\n      <td>...</td>\n      <td>0</td>\n      <td>0</td>\n      <td>1</td>\n      <td>0</td>\n      <td>0</td>\n      <td>0</td>\n      <td>0</td>\n      <td>0</td>\n      <td>1</td>\n      <td>1</td>\n    </tr>\n    <tr>\n      <th>4</th>\n      <td>460000</td>\n      <td>34</td>\n      <td>-1</td>\n      <td>0</td>\n      <td>0</td>\n      <td>0</td>\n      <td>0</td>\n      <td>0</td>\n      <td>11689</td>\n      <td>12911</td>\n      <td>...</td>\n      <td>0</td>\n      <td>1</td>\n      <td>0</td>\n      <td>0</td>\n      <td>0</td>\n      <td>0</td>\n      <td>0</td>\n      <td>0</td>\n      <td>1</td>\n      <td>0</td>\n    </tr>\n  </tbody>\n</table>\n<p>5 rows × 34 columns</p>\n</div>"
     },
     "execution_count": 88,
     "metadata": {},
     "output_type": "execute_result"
    }
   ],
   "source": [
    "df = pd.read_csv(\"PAPERS/ForPaper/Tabular/Credit/raw/UCI_Credit_Card.csv\")\n",
    "df.rename(columns={df.columns[-1]: \"class\"}, inplace=True)\n",
    "\n",
    "dummies_cols = set(filter(lambda col: df[col].unique().shape[0] <= 7, df.columns)) - {\"class\"}\n",
    "df = pd.get_dummies(df, columns=dummies_cols)\n",
    "df.head()\n",
    "\n",
    "Y = df[\"class\"]\n",
    "X = df.drop(columns=[\"class\"])\n",
    "df = pd.concat([X, Y], axis=1)\n",
    "df = df.sample(frac=1).reset_index(drop=True)\n",
    "\n",
    "df.head()\n"
   ],
   "metadata": {
    "collapsed": false,
    "ExecuteTime": {
     "start_time": "2023-04-24T02:22:16.239876Z",
     "end_time": "2023-04-24T02:22:16.344019Z"
    }
   }
  },
  {
   "cell_type": "code",
   "execution_count": 89,
   "outputs": [],
   "source": [
    "train_df = df.iloc[:int(len(df)*0.64)]\n",
    "val_df = df.iloc[int(len(df)*0.64):int(len(df)*0.8)]\n",
    "test_df = df.iloc[int(len(df)*0.8):]\n",
    "\n",
    "train_df.to_csv(\"PAPERS/ForPaper/Tabular/Credit/processed/full/train.csv\", index=True)\n",
    "val_df.to_csv(\"PAPERS/ForPaper/Tabular/Credit/processed/full/val.csv\", index=True)\n",
    "test_df.to_csv(\"PAPERS/ForPaper/Tabular/Credit/processed/full/test.csv\", index=True)"
   ],
   "metadata": {
    "collapsed": false,
    "ExecuteTime": {
     "start_time": "2023-04-24T02:22:34.267243Z",
     "end_time": "2023-04-24T02:22:34.454085Z"
    }
   }
  },
  {
   "cell_type": "code",
   "execution_count": 90,
   "outputs": [],
   "source": [
    "for i in range(df.shape[0]):\n",
    "    for j in range(df.shape[1] - 1):\n",
    "        if random.random() < 0.2:\n",
    "            df.iloc[i, j] = np.nan"
   ],
   "metadata": {
    "collapsed": false,
    "ExecuteTime": {
     "start_time": "2023-04-24T02:23:52.353576Z",
     "end_time": "2023-04-24T02:24:59.545270Z"
    }
   }
  },
  {
   "cell_type": "code",
   "execution_count": 92,
   "outputs": [],
   "source": [
    "train_df = df.iloc[:int(len(df)*0.64)]\n",
    "val_df = df.iloc[int(len(df)*0.64):int(len(df)*0.8)]\n",
    "test_df = df.iloc[int(len(df)*0.8):]\n",
    "\n",
    "train_df.to_csv(\"PAPERS/ForPaper/Tabular/Credit/processed/train.csv\", index=True)\n",
    "val_df.to_csv(\"PAPERS/ForPaper/Tabular/Credit/processed/val.csv\", index=True)\n",
    "test_df.to_csv(\"PAPERS/ForPaper/Tabular/Credit/processed/test.csv\", index=True)"
   ],
   "metadata": {
    "collapsed": false,
    "ExecuteTime": {
     "start_time": "2023-04-24T02:25:36.543865Z",
     "end_time": "2023-04-24T02:25:37.187882Z"
    }
   }
  },
  {
   "cell_type": "markdown",
   "source": [
    "# Sonar"
   ],
   "metadata": {
    "collapsed": false
   }
  },
  {
   "cell_type": "code",
   "execution_count": 96,
   "outputs": [
    {
     "data": {
      "text/plain": "        0       1       2       3       4       5       6       7       8  \\\n0  0.0096  0.0404  0.0682  0.0688  0.0887  0.0932  0.0955  0.2140  0.2546   \n1  0.0409  0.0421  0.0573  0.0130  0.0183  0.1019  0.1054  0.1070  0.2302   \n2  0.0235  0.0291  0.0749  0.0519  0.0227  0.0834  0.0677  0.2002  0.2876   \n3  0.0530  0.0885  0.1997  0.2604  0.3225  0.2247  0.0617  0.2287  0.0950   \n4  0.0217  0.0152  0.0346  0.0346  0.0484  0.0526  0.0773  0.0862  0.1451   \n\n        9  ...      51      52      53      54      55      56      57  \\\n0  0.2952  ...  0.0237  0.0078  0.0144  0.0170  0.0012  0.0109  0.0036   \n1  0.2259  ...  0.0028  0.0036  0.0105  0.0120  0.0087  0.0061  0.0061   \n2  0.3674  ...  0.0083  0.0037  0.0095  0.0105  0.0030  0.0132  0.0068   \n3  0.0740  ...  0.0244  0.0199  0.0257  0.0082  0.0151  0.0171  0.0146   \n4  0.2110  ...  0.0123  0.0067  0.0011  0.0026  0.0049  0.0029  0.0022   \n\n       58      59  class  \n0  0.0043  0.0018      1  \n1  0.0030  0.0078      0  \n2  0.0108  0.0090      0  \n3  0.0134  0.0056      1  \n4  0.0022  0.0032      1  \n\n[5 rows x 61 columns]",
      "text/html": "<div>\n<style scoped>\n    .dataframe tbody tr th:only-of-type {\n        vertical-align: middle;\n    }\n\n    .dataframe tbody tr th {\n        vertical-align: top;\n    }\n\n    .dataframe thead th {\n        text-align: right;\n    }\n</style>\n<table border=\"1\" class=\"dataframe\">\n  <thead>\n    <tr style=\"text-align: right;\">\n      <th></th>\n      <th>0</th>\n      <th>1</th>\n      <th>2</th>\n      <th>3</th>\n      <th>4</th>\n      <th>5</th>\n      <th>6</th>\n      <th>7</th>\n      <th>8</th>\n      <th>9</th>\n      <th>...</th>\n      <th>51</th>\n      <th>52</th>\n      <th>53</th>\n      <th>54</th>\n      <th>55</th>\n      <th>56</th>\n      <th>57</th>\n      <th>58</th>\n      <th>59</th>\n      <th>class</th>\n    </tr>\n  </thead>\n  <tbody>\n    <tr>\n      <th>0</th>\n      <td>0.0096</td>\n      <td>0.0404</td>\n      <td>0.0682</td>\n      <td>0.0688</td>\n      <td>0.0887</td>\n      <td>0.0932</td>\n      <td>0.0955</td>\n      <td>0.2140</td>\n      <td>0.2546</td>\n      <td>0.2952</td>\n      <td>...</td>\n      <td>0.0237</td>\n      <td>0.0078</td>\n      <td>0.0144</td>\n      <td>0.0170</td>\n      <td>0.0012</td>\n      <td>0.0109</td>\n      <td>0.0036</td>\n      <td>0.0043</td>\n      <td>0.0018</td>\n      <td>1</td>\n    </tr>\n    <tr>\n      <th>1</th>\n      <td>0.0409</td>\n      <td>0.0421</td>\n      <td>0.0573</td>\n      <td>0.0130</td>\n      <td>0.0183</td>\n      <td>0.1019</td>\n      <td>0.1054</td>\n      <td>0.1070</td>\n      <td>0.2302</td>\n      <td>0.2259</td>\n      <td>...</td>\n      <td>0.0028</td>\n      <td>0.0036</td>\n      <td>0.0105</td>\n      <td>0.0120</td>\n      <td>0.0087</td>\n      <td>0.0061</td>\n      <td>0.0061</td>\n      <td>0.0030</td>\n      <td>0.0078</td>\n      <td>0</td>\n    </tr>\n    <tr>\n      <th>2</th>\n      <td>0.0235</td>\n      <td>0.0291</td>\n      <td>0.0749</td>\n      <td>0.0519</td>\n      <td>0.0227</td>\n      <td>0.0834</td>\n      <td>0.0677</td>\n      <td>0.2002</td>\n      <td>0.2876</td>\n      <td>0.3674</td>\n      <td>...</td>\n      <td>0.0083</td>\n      <td>0.0037</td>\n      <td>0.0095</td>\n      <td>0.0105</td>\n      <td>0.0030</td>\n      <td>0.0132</td>\n      <td>0.0068</td>\n      <td>0.0108</td>\n      <td>0.0090</td>\n      <td>0</td>\n    </tr>\n    <tr>\n      <th>3</th>\n      <td>0.0530</td>\n      <td>0.0885</td>\n      <td>0.1997</td>\n      <td>0.2604</td>\n      <td>0.3225</td>\n      <td>0.2247</td>\n      <td>0.0617</td>\n      <td>0.2287</td>\n      <td>0.0950</td>\n      <td>0.0740</td>\n      <td>...</td>\n      <td>0.0244</td>\n      <td>0.0199</td>\n      <td>0.0257</td>\n      <td>0.0082</td>\n      <td>0.0151</td>\n      <td>0.0171</td>\n      <td>0.0146</td>\n      <td>0.0134</td>\n      <td>0.0056</td>\n      <td>1</td>\n    </tr>\n    <tr>\n      <th>4</th>\n      <td>0.0217</td>\n      <td>0.0152</td>\n      <td>0.0346</td>\n      <td>0.0346</td>\n      <td>0.0484</td>\n      <td>0.0526</td>\n      <td>0.0773</td>\n      <td>0.0862</td>\n      <td>0.1451</td>\n      <td>0.2110</td>\n      <td>...</td>\n      <td>0.0123</td>\n      <td>0.0067</td>\n      <td>0.0011</td>\n      <td>0.0026</td>\n      <td>0.0049</td>\n      <td>0.0029</td>\n      <td>0.0022</td>\n      <td>0.0022</td>\n      <td>0.0032</td>\n      <td>1</td>\n    </tr>\n  </tbody>\n</table>\n<p>5 rows × 61 columns</p>\n</div>"
     },
     "execution_count": 96,
     "metadata": {},
     "output_type": "execute_result"
    }
   ],
   "source": [
    "df = pd.read_csv(\"PAPERS/ForPaper/Tabular/Sonar/raw/sonar_all_data.csv\", header=None)\n",
    "df = df.rename(columns={df.shape[1] - 1: \"class\"})\n",
    "df['class'] = df['class'].map({k: i for i, k in enumerate(df['class'].unique())})\n",
    "df = df.sample(frac=1).reset_index(drop=True)\n",
    "\n",
    "df.head()"
   ],
   "metadata": {
    "collapsed": false,
    "ExecuteTime": {
     "start_time": "2023-04-24T02:34:57.750599Z",
     "end_time": "2023-04-24T02:34:57.805697Z"
    }
   }
  },
  {
   "cell_type": "code",
   "execution_count": 97,
   "outputs": [],
   "source": [
    "train_df = df.iloc[:int(len(df)*0.64)]\n",
    "val_df = df.iloc[int(len(df)*0.64):int(len(df)*0.8)]\n",
    "test_df = df.iloc[int(len(df)*0.8):]\n",
    "\n",
    "train_df.to_csv(\"PAPERS/ForPaper/Tabular/Sonar/processed/full/train.csv\", index=True)\n",
    "val_df.to_csv(\"PAPERS/ForPaper/Tabular/Sonar/processed/full/val.csv\", index=True)\n",
    "test_df.to_csv(\"PAPERS/ForPaper/Tabular/Sonar/processed/full/test.csv\", index=True)"
   ],
   "metadata": {
    "collapsed": false,
    "ExecuteTime": {
     "start_time": "2023-04-24T02:35:08.878870Z",
     "end_time": "2023-04-24T02:35:08.911068Z"
    }
   }
  },
  {
   "cell_type": "code",
   "execution_count": 98,
   "outputs": [],
   "source": [
    "for i in range(df.shape[0]):\n",
    "    for j in range(df.shape[1] - 1):\n",
    "        if random.random() < 0.5:\n",
    "            df.iloc[i, j] = np.nan"
   ],
   "metadata": {
    "collapsed": false,
    "ExecuteTime": {
     "start_time": "2023-04-24T02:35:39.179707Z",
     "end_time": "2023-04-24T02:35:40.798848Z"
    }
   }
  },
  {
   "cell_type": "code",
   "execution_count": 99,
   "outputs": [],
   "source": [
    "train_df = df.iloc[:int(len(df)*0.64)]\n",
    "val_df = df.iloc[int(len(df)*0.64):int(len(df)*0.8)]\n",
    "test_df = df.iloc[int(len(df)*0.8):]\n",
    "\n",
    "train_df.to_csv(\"PAPERS/ForPaper/Tabular/Sonar/processed/train.csv\", index=True)\n",
    "val_df.to_csv(\"PAPERS/ForPaper/Tabular/Sonar/processed/val.csv\", index=True)\n",
    "test_df.to_csv(\"PAPERS/ForPaper/Tabular/Sonar/processed/test.csv\", index=True)"
   ],
   "metadata": {
    "collapsed": false,
    "ExecuteTime": {
     "start_time": "2023-04-24T02:35:54.141606Z",
     "end_time": "2023-04-24T02:35:54.172814Z"
    }
   }
  },
  {
   "cell_type": "markdown",
   "source": [
    "# Wine"
   ],
   "metadata": {
    "collapsed": false
   }
  },
  {
   "cell_type": "code",
   "execution_count": 4,
   "outputs": [
    {
     "data": {
      "text/plain": "   fixed acidity  volatile acidity  citric acid  residual sugar  chlorides  \\\n0            6.6             0.350         0.35             6.0      0.063   \n1            7.3             0.200         0.26             1.6      0.040   \n2            6.3             0.695         0.55            12.9      0.056   \n3            5.0             0.455         0.18             1.9      0.036   \n4            5.7             0.200         0.30             2.5      0.046   \n\n   free sulfur dioxide  total sulfur dioxide  density    pH  sulphates  \\\n0                 31.0                 150.0  0.99537  3.10       0.47   \n1                 36.0                 123.0  0.99238  3.34       0.44   \n2                 58.0                 252.0  0.99806  3.29       0.49   \n3                 33.0                 106.0  0.98746  3.21       0.83   \n4                 38.0                 125.0  0.99276  3.34       0.50   \n\n   alcohol  class  \n0      9.4      0  \n1     10.8      0  \n2      8.7      1  \n3     14.0      2  \n4      9.9      0  ",
      "text/html": "<div>\n<style scoped>\n    .dataframe tbody tr th:only-of-type {\n        vertical-align: middle;\n    }\n\n    .dataframe tbody tr th {\n        vertical-align: top;\n    }\n\n    .dataframe thead th {\n        text-align: right;\n    }\n</style>\n<table border=\"1\" class=\"dataframe\">\n  <thead>\n    <tr style=\"text-align: right;\">\n      <th></th>\n      <th>fixed acidity</th>\n      <th>volatile acidity</th>\n      <th>citric acid</th>\n      <th>residual sugar</th>\n      <th>chlorides</th>\n      <th>free sulfur dioxide</th>\n      <th>total sulfur dioxide</th>\n      <th>density</th>\n      <th>pH</th>\n      <th>sulphates</th>\n      <th>alcohol</th>\n      <th>class</th>\n    </tr>\n  </thead>\n  <tbody>\n    <tr>\n      <th>0</th>\n      <td>6.6</td>\n      <td>0.350</td>\n      <td>0.35</td>\n      <td>6.0</td>\n      <td>0.063</td>\n      <td>31.0</td>\n      <td>150.0</td>\n      <td>0.99537</td>\n      <td>3.10</td>\n      <td>0.47</td>\n      <td>9.4</td>\n      <td>0</td>\n    </tr>\n    <tr>\n      <th>1</th>\n      <td>7.3</td>\n      <td>0.200</td>\n      <td>0.26</td>\n      <td>1.6</td>\n      <td>0.040</td>\n      <td>36.0</td>\n      <td>123.0</td>\n      <td>0.99238</td>\n      <td>3.34</td>\n      <td>0.44</td>\n      <td>10.8</td>\n      <td>0</td>\n    </tr>\n    <tr>\n      <th>2</th>\n      <td>6.3</td>\n      <td>0.695</td>\n      <td>0.55</td>\n      <td>12.9</td>\n      <td>0.056</td>\n      <td>58.0</td>\n      <td>252.0</td>\n      <td>0.99806</td>\n      <td>3.29</td>\n      <td>0.49</td>\n      <td>8.7</td>\n      <td>1</td>\n    </tr>\n    <tr>\n      <th>3</th>\n      <td>5.0</td>\n      <td>0.455</td>\n      <td>0.18</td>\n      <td>1.9</td>\n      <td>0.036</td>\n      <td>33.0</td>\n      <td>106.0</td>\n      <td>0.98746</td>\n      <td>3.21</td>\n      <td>0.83</td>\n      <td>14.0</td>\n      <td>2</td>\n    </tr>\n    <tr>\n      <th>4</th>\n      <td>5.7</td>\n      <td>0.200</td>\n      <td>0.30</td>\n      <td>2.5</td>\n      <td>0.046</td>\n      <td>38.0</td>\n      <td>125.0</td>\n      <td>0.99276</td>\n      <td>3.34</td>\n      <td>0.50</td>\n      <td>9.9</td>\n      <td>0</td>\n    </tr>\n  </tbody>\n</table>\n</div>"
     },
     "execution_count": 4,
     "metadata": {},
     "output_type": "execute_result"
    }
   ],
   "source": [
    "df = pd.read_csv(\"PAPERS/ForPaper/Tabular/Wine/raw/winequality-white.csv\", sep=\";\")\n",
    "df.rename(columns={df.columns[-1]: \"class\"}, inplace=True)\n",
    "df['class'] = df['class'].map({k: i for i, k in enumerate(df['class'].unique())})\n",
    "\n",
    "df = df.sample(frac=1).reset_index(drop=True)\n",
    "\n",
    "df.head()"
   ],
   "metadata": {
    "collapsed": false,
    "ExecuteTime": {
     "start_time": "2023-04-24T02:50:00.516099Z",
     "end_time": "2023-04-24T02:50:00.557138Z"
    }
   }
  },
  {
   "cell_type": "code",
   "execution_count": 5,
   "outputs": [],
   "source": [
    "train_df = df.iloc[:int(len(df)*0.64)]\n",
    "val_df = df.iloc[int(len(df)*0.64):int(len(df)*0.8)]\n",
    "test_df = df.iloc[int(len(df)*0.8):]\n",
    "\n",
    "train_df.to_csv(\"PAPERS/ForPaper/Tabular/Wine/processed/full/train.csv\", index=True)\n",
    "val_df.to_csv(\"PAPERS/ForPaper/Tabular/Wine/processed/full/val.csv\", index=True)\n",
    "test_df.to_csv(\"PAPERS/ForPaper/Tabular/Wine/processed/full/test.csv\", index=True)"
   ],
   "metadata": {
    "collapsed": false,
    "ExecuteTime": {
     "start_time": "2023-04-24T02:50:22.733817Z",
     "end_time": "2023-04-24T02:50:22.805635Z"
    }
   }
  },
  {
   "cell_type": "code",
   "execution_count": 6,
   "outputs": [],
   "source": [
    "for i in range(df.shape[0]):\n",
    "    for j in range(df.shape[1] - 1):\n",
    "        if random.random() < 0.5:\n",
    "            df.iloc[i, j] = np.nan"
   ],
   "metadata": {
    "collapsed": false,
    "ExecuteTime": {
     "start_time": "2023-04-24T02:50:25.235231Z",
     "end_time": "2023-04-24T02:50:32.507895Z"
    }
   }
  },
  {
   "cell_type": "code",
   "execution_count": 7,
   "outputs": [],
   "source": [
    "train_df = df.iloc[:int(len(df)*0.64)]\n",
    "val_df = df.iloc[int(len(df)*0.64):int(len(df)*0.8)]\n",
    "test_df = df.iloc[int(len(df)*0.8):]\n",
    "\n",
    "train_df.to_csv(\"PAPERS/ForPaper/Tabular/Wine/processed/train.csv\", index=True)\n",
    "val_df.to_csv(\"PAPERS/ForPaper/Tabular/Wine/processed/val.csv\", index=True)\n",
    "test_df.to_csv(\"PAPERS/ForPaper/Tabular/Wine/processed/test.csv\", index=True)"
   ],
   "metadata": {
    "collapsed": false,
    "ExecuteTime": {
     "start_time": "2023-04-24T02:50:51.280446Z",
     "end_time": "2023-04-24T02:50:51.330723Z"
    }
   }
  },
  {
   "cell_type": "code",
   "execution_count": null,
   "outputs": [],
   "source": [],
   "metadata": {
    "collapsed": false
   }
  }
 ],
 "metadata": {
  "kernelspec": {
   "display_name": "Python 3",
   "language": "python",
   "name": "python3"
  },
  "language_info": {
   "codemirror_mode": {
    "name": "ipython",
    "version": 2
   },
   "file_extension": ".py",
   "mimetype": "text/x-python",
   "name": "python",
   "nbconvert_exporter": "python",
   "pygments_lexer": "ipython2",
   "version": "2.7.6"
  }
 },
 "nbformat": 4,
 "nbformat_minor": 0
}
